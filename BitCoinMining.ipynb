{
 "cells": [
  {
   "cell_type": "code",
   "execution_count": 1,
   "metadata": {},
   "outputs": [],
   "source": [
    "#from hashlib import sha256"
   ]
  },
  {
   "cell_type": "code",
   "execution_count": 2,
   "metadata": {},
   "outputs": [],
   "source": [
    "#print(sha256(\"ABC\".encode(\"ascii\")))"
   ]
  },
  {
   "cell_type": "code",
   "execution_count": 3,
   "metadata": {},
   "outputs": [],
   "source": [
    "#c=sha256(\"ABC\".encode(\"ascii\")).hexdigest()"
   ]
  },
  {
   "cell_type": "code",
   "execution_count": 10,
   "metadata": {},
   "outputs": [
    {
     "name": "stdout",
     "output_type": "stream",
     "text": [
      "Yay! Successfully mined bitcoins with nonce value:4292819\n",
      "end mining. Mining took: 14.972849130630493 seconds\n",
      "00000014a4bc82140676f47e3d0fc60e9caa571fbf4989e68ea4926d71addf71\n"
     ]
    }
   ],
   "source": [
    "from hashlib import sha256\n",
    "MAX_NONCE =1000000000\n",
    "\n",
    "def SHA256(text):\n",
    "    return sha256(text.encode(\"ascii\")).hexdigest()\n",
    "\n",
    "def mine(block_number, transactions, previous_hash, prefix_zeros):\n",
    "    prefix_str = '0'* prefix_zeros\n",
    "    \n",
    "    for nonce in range(MAX_NONCE):\n",
    "        text = str(block_number)+ transactions + previous_hash + str(nonce)\n",
    "        new_hash = SHA256(text)\n",
    "        \n",
    "        if new_hash.startswith(prefix_str):\n",
    "            print(f\"Yay! Successfully mined bitcoins with nonce value:{nonce}\")\n",
    "            return new_hash\n",
    "    \n",
    "    raise BaseException(f\"Couldn't find correct hash after trying {MAX_NONCE} times\")\n",
    "\n",
    "if __name__=='__main__':\n",
    "    \n",
    "    transactions= '''\n",
    "    aakash->subham->20,\n",
    "    Carlo-> Mandy-> 45\n",
    "    '''\n",
    "    difficulty= 6\n",
    "    \n",
    "    import time\n",
    "    start= time.time()\n",
    "    new_hash = mine(5, transactions, '0000000xa036944e29568d0cff17edbe038f81208fecf9a66be9a2b8321c6ec7', difficulty)\n",
    "    total_time = str((time.time() - start))\n",
    "    print(f\"end mining. Mining took: {total_time} seconds\")\n",
    "    \n",
    "    print(new_hash)"
   ]
  },
  {
   "cell_type": "code",
   "execution_count": null,
   "metadata": {},
   "outputs": [],
   "source": []
  }
 ],
 "metadata": {
  "kernelspec": {
   "display_name": "Python 3",
   "language": "python",
   "name": "python3"
  },
  "language_info": {
   "codemirror_mode": {
    "name": "ipython",
    "version": 3
   },
   "file_extension": ".py",
   "mimetype": "text/x-python",
   "name": "python",
   "nbconvert_exporter": "python",
   "pygments_lexer": "ipython3",
   "version": "3.8.5"
  }
 },
 "nbformat": 4,
 "nbformat_minor": 4
}
